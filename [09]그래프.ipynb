{
  "nbformat": 4,
  "nbformat_minor": 0,
  "metadata": {
    "colab": {
      "provenance": [],
      "authorship_tag": "ABX9TyNr5MSn/spNqx1TYV+7zi5b",
      "include_colab_link": true
    },
    "kernelspec": {
      "name": "python3",
      "display_name": "Python 3"
    },
    "language_info": {
      "name": "python"
    }
  },
  "cells": [
    {
      "cell_type": "markdown",
      "metadata": {
        "id": "view-in-github",
        "colab_type": "text"
      },
      "source": [
        "<a href=\"https://colab.research.google.com/github/kyg1218/Discrete_Mathematics_practice/blob/main/%5B09%5D%EA%B7%B8%EB%9E%98%ED%94%84.ipynb\" target=\"_parent\"><img src=\"https://colab.research.google.com/assets/colab-badge.svg\" alt=\"Open In Colab\"/></a>"
      ]
    },
    {
      "cell_type": "code",
      "execution_count": 10,
      "metadata": {
        "id": "Keyx2AfQ0rni"
      },
      "outputs": [],
      "source": [
        "graph = {\n",
        "    'Alice' : ['Bob', 'Charlie'],\n",
        "    'Bob' : ['David', 'Eve'],\n",
        "    'Charlie' : ['Frank'],\n",
        "    'David' : [],\n",
        "    'Eve' : ['Frank'],\n",
        "    'Frank' : []\n",
        "}"
      ]
    },
    {
      "cell_type": "code",
      "source": [
        "def dfs(graph, v, visited):\n",
        "  visited.add(v)\n",
        "  print(v, end=' ')\n",
        "  for neighbor in graph[v]:\n",
        "    if neighbor not in visited:\n",
        "      dfs(graph, neighbor, visited)"
      ],
      "metadata": {
        "id": "WWPYfxLkLgcj"
      },
      "execution_count": 2,
      "outputs": []
    },
    {
      "cell_type": "code",
      "source": [
        "print(\"DFS 탐색 순서 : \")\n",
        "dfs(graph, 'Alice', set())"
      ],
      "metadata": {
        "colab": {
          "base_uri": "https://localhost:8080/"
        },
        "id": "piHZ0_yjMiEV",
        "outputId": "2b933003-46ab-4141-9de8-f1f4fb362c3a"
      },
      "execution_count": 11,
      "outputs": [
        {
          "output_type": "stream",
          "name": "stdout",
          "text": [
            "DFS 탐색 순서 : \n",
            "Alice Bob David Eve Frank Charlie "
          ]
        }
      ]
    },
    {
      "cell_type": "code",
      "source": [
        "from collections import deque\n",
        "\n",
        "def bfs(graph, start):\n",
        "  visited = set()\n",
        "  queue = deque([start])\n",
        "  visited.add(start)\n",
        "\n",
        "  while queue:\n",
        "    v = queue.popleft()\n",
        "    print(v, end=' ')\n",
        "    for neighbor in graph[v]:\n",
        "      if neighbor not in visited:\n",
        "        queue.append(neighbor)\n",
        "        visited.add(neighbor)\n",
        "\n",
        "print(\"\\nBFS 탐색 순서 : \")\n",
        "bfs(graph, 'Alice')"
      ],
      "metadata": {
        "colab": {
          "base_uri": "https://localhost:8080/"
        },
        "id": "bEbL7ticOwhO",
        "outputId": "4d6cd8d0-9fc5-4f58-a2bf-edab1e228b5e"
      },
      "execution_count": 12,
      "outputs": [
        {
          "output_type": "stream",
          "name": "stdout",
          "text": [
            "\n",
            "BFS 탐색 순서 : \n",
            "Alice Bob Charlie David Eve Frank "
          ]
        }
      ]
    },
    {
      "cell_type": "code",
      "source": [
        "from collections import deque\n",
        "\n",
        "def recommend_friend(graph, start):\n",
        "  visited = set()\n",
        "  queue = deque([(start, 0)]) # vertex, vertex와의 거리\n",
        "\n",
        "  print(f\"\\n{start}의 친구 추천 (2단계) : \")\n",
        "\n",
        "  while queue:\n",
        "    current, depth = queue.popleft()\n",
        "    if current not in visited:\n",
        "      visited.add(current)\n",
        "      if depth == 2:\n",
        "        print('-', current)\n",
        "      if depth < 2:\n",
        "        for neighbor in graph[current]:\n",
        "          queue.append((neighbor, depth + 1))"
      ],
      "metadata": {
        "id": "RncnFM3IPzFb"
      },
      "execution_count": 17,
      "outputs": []
    },
    {
      "cell_type": "code",
      "source": [
        "recommend_friend(graph, 'Alice')"
      ],
      "metadata": {
        "colab": {
          "base_uri": "https://localhost:8080/"
        },
        "id": "9d3oCMn_RHy7",
        "outputId": "4f09478d-2b1f-4dc4-e020-4e2b3125d46e"
      },
      "execution_count": 16,
      "outputs": [
        {
          "output_type": "stream",
          "name": "stdout",
          "text": [
            "\n",
            "Alice의 친구 추천 (2단계) : \n",
            "- David\n",
            "- Eve\n",
            "- Frank\n"
          ]
        }
      ]
    }
  ]
}